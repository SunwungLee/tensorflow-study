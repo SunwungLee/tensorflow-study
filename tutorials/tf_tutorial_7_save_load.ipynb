{
  "nbformat": 4,
  "nbformat_minor": 0,
  "metadata": {
    "colab": {
      "name": "tf_tutorial_7_save_load.ipynb",
      "provenance": [],
      "collapsed_sections": [],
      "authorship_tag": "ABX9TyNo7Oa6eo3qu+N2Zx6X4HCW",
      "include_colab_link": true
    },
    "kernelspec": {
      "name": "python3",
      "display_name": "Python 3"
    },
    "language_info": {
      "name": "python"
    }
  },
  "cells": [
    {
      "cell_type": "markdown",
      "metadata": {
        "id": "view-in-github",
        "colab_type": "text"
      },
      "source": [
        "<a href=\"https://colab.research.google.com/github/SunwungLee/tensorflow-study/blob/main/tf_tutorial_7_save_load.ipynb\" target=\"_parent\"><img src=\"https://colab.research.google.com/assets/colab-badge.svg\" alt=\"Open In Colab\"/></a>"
      ]
    },
    {
      "cell_type": "code",
      "metadata": {
        "colab": {
          "base_uri": "https://localhost:8080/",
          "height": 35
        },
        "id": "mh2dxEKFP9R_",
        "outputId": "17ca5750-5348-4841-db94-5d8a6eec2bea"
      },
      "source": [
        "'''\n",
        "모델 저장과 복원\n",
        "\n",
        "작성자: 이선웅\n",
        "작성일: 2021.07.06\n",
        "'''"
      ],
      "execution_count": null,
      "outputs": [
        {
          "output_type": "execute_result",
          "data": {
            "application/vnd.google.colaboratory.intrinsic+json": {
              "type": "string"
            },
            "text/plain": [
              "'\\n모델 저장과 복원\\n\\n작성자: 이선웅\\n작성일: 2021.07.06\\n'"
            ]
          },
          "metadata": {
            "tags": []
          },
          "execution_count": 1
        }
      ]
    },
    {
      "cell_type": "markdown",
      "metadata": {
        "id": "VIZY3jvQQH54"
      },
      "source": [
        "# 모델 저장과 복원"
      ]
    },
    {
      "cell_type": "markdown",
      "metadata": {
        "id": "5V0Kmm-4QLc_"
      },
      "source": [
        "훈련하는 도중이나 훈련이 끝난 후에 모델을 저장할 수 있습니다. 모델을 중지된 지점부터 다시 훈련할 수 있어 한 번에 오랫동안 훈련하지 않아도 됩니다. 또 모델을 저장하면 다른 사람에게 공유할 수 있고 작업을 재현할 수 있습니다. 연구한 모델과 기법을 공개할 때 많은 머신 러닝 기술자들이 다음과 같은 것들을 제공합니다:\n",
        "\n",
        "- 모델을 만드는 코드\n",
        "- 모델의 훈련된 가중치 또는 파라미터\n",
        "\n",
        "이런 데이터를 공유하면 다른 사람들이 모델의 작동 방식을 이해하고 새로운 데이터로 모델을 실험하는데 도움이 됩니다.\n",
        "\n",
        "주의: 신뢰할 수 없는 코드는 조심하세요. 텐서플로 모델은 프로그램 코드입니다. 자세한 내용은 텐서플로를 안전하게 사용하기 문서를 참고하세요.\n",
        "\n",
        "###저장 방식\n",
        "사용하는 API에 따라서 여러가지 방법으로 텐서플로 모델을 저장할 수 있습니다. 이 문서는 텐서플로 모델을 만들고 훈련하기 위한 고수준 API인 tf.keras를 사용합니다. 다른 방법들에 대해서는 텐서플로의 저장과 복원 문서와 즉시 실행(eager execution) 문서의 저장하기 섹션을 참고하세요.\n",
        "\n",
        "##설정\n",
        "###설치와 임포트\n",
        "필요한 라이브러리를 설치하고 텐서플로를 임포트(import)합니다:"
      ]
    },
    {
      "cell_type": "code",
      "metadata": {
        "colab": {
          "base_uri": "https://localhost:8080/"
        },
        "id": "n522EbZgQHMI",
        "outputId": "e7fc0bc5-06ce-4028-eb61-f83623d601dc"
      },
      "source": [
        "import os\n",
        "\n",
        "import tensorflow as tf\n",
        "from tensorflow import keras\n",
        "\n",
        "print(tf.version.VERSION)"
      ],
      "execution_count": null,
      "outputs": [
        {
          "output_type": "stream",
          "text": [
            "2.5.0\n"
          ],
          "name": "stdout"
        }
      ]
    },
    {
      "cell_type": "markdown",
      "metadata": {
        "id": "ShL6HLvSQalH"
      },
      "source": [
        "### 예제 데이터셋 받기\n",
        "MNIST 데이터셋으로 모델을 훈련하여 가중치를 저장하는 예제를 만들어 보겠습니다. 모델 실행 속도를 빠르게 하기 위해 샘플에서 처음 1,000개만 사용겠습니다:"
      ]
    },
    {
      "cell_type": "code",
      "metadata": {
        "colab": {
          "base_uri": "https://localhost:8080/"
        },
        "id": "CD43gDvKQYrT",
        "outputId": "d19b928d-6fd0-4501-925f-c08f69b14879"
      },
      "source": [
        "(train_images, train_labels), (test_images, test_labels) = keras.datasets.mnist.load_data()\n",
        "\n",
        "train_labels = train_labels[:1000]\n",
        "test_labels = test_labels[:1000]\n",
        "\n",
        "train_images = train_images[:1000].reshape(-1, 28*28) / 255.0\n",
        "test_images = test_images[:1000].reshape(-1, 28*28) / 255.0"
      ],
      "execution_count": null,
      "outputs": [
        {
          "output_type": "stream",
          "text": [
            "Downloading data from https://storage.googleapis.com/tensorflow/tf-keras-datasets/mnist.npz\n",
            "11493376/11490434 [==============================] - 0s 0us/step\n"
          ],
          "name": "stdout"
        }
      ]
    },
    {
      "cell_type": "markdown",
      "metadata": {
        "id": "oSq50TrxQ0of"
      },
      "source": [
        "### 모델 정의\n",
        "먼저 간단한 모델을 하나 만들어 보죠."
      ]
    },
    {
      "cell_type": "code",
      "metadata": {
        "colab": {
          "base_uri": "https://localhost:8080/"
        },
        "id": "acnIC-M_Qz33",
        "outputId": "e6a47bf2-6f65-4dd2-b803-06427e36a62a"
      },
      "source": [
        "def create_model():\n",
        "    model = keras.models.Sequential(\n",
        "        [\n",
        "         keras.layers.Dense(512, activation='relu', input_shape=(784, )),\n",
        "         keras.layers.Dropout(0.2),\n",
        "         keras.layers.Dense(10)\n",
        "        ]\n",
        "    )\n",
        "    model.compile(\n",
        "        optimizer='adam',\n",
        "        loss=tf.losses.SparseCategoricalCrossentropy(from_logits=True),\n",
        "        metrics=['accuracy']\n",
        "    )\n",
        "    return model\n",
        "\n",
        "model = create_model()\n",
        "\n",
        "model.summary()"
      ],
      "execution_count": null,
      "outputs": [
        {
          "output_type": "stream",
          "text": [
            "Model: \"sequential\"\n",
            "_________________________________________________________________\n",
            "Layer (type)                 Output Shape              Param #   \n",
            "=================================================================\n",
            "dense (Dense)                (None, 512)               401920    \n",
            "_________________________________________________________________\n",
            "dropout (Dropout)            (None, 512)               0         \n",
            "_________________________________________________________________\n",
            "dense_1 (Dense)              (None, 10)                5130      \n",
            "=================================================================\n",
            "Total params: 407,050\n",
            "Trainable params: 407,050\n",
            "Non-trainable params: 0\n",
            "_________________________________________________________________\n"
          ],
          "name": "stdout"
        }
      ]
    },
    {
      "cell_type": "markdown",
      "metadata": {
        "id": "V_uhBHQvRS0X"
      },
      "source": [
        "## 훈련하는 동안 체크포인트 저장하기\n",
        "훈련 중간과 훈련 마지막에 체크포인트(checkpoint)를 자동으로 저장하도록 하는 것이 많이 사용하는 방법입니다. 다시 훈련하지 않고 모델을 재사용하거나 훈련 과정이 중지된 경우 이어서 훈련을 진행할 수 있습니다. tf.keras.callbacks.ModelCheckpoint은 이런 작업을 수행하는 콜백(callback)입니다. 이 콜백은 체크포인트 작업을 조정할 수 있도록 여러가지 매개변수를 제공합니다.\n",
        "\n",
        "### 체크포인트 콜백 사용하기\n",
        "훈련하는 동안 가중치를 저장하기 위해 ModelCheckpoint 콜백을 만들어 보죠:"
      ]
    },
    {
      "cell_type": "code",
      "metadata": {
        "colab": {
          "base_uri": "https://localhost:8080/"
        },
        "id": "0IAqTTMGRQql",
        "outputId": "0c0b8640-881e-4286-c75f-accb74ad0a31"
      },
      "source": [
        "checkpoint_path = 'training_1/cp.ckpt'\n",
        "checkpoint_dir = os.path.dirname(checkpoint_path)\n",
        "\n",
        "cp_callback = keras.callbacks.ModelCheckpoint(\n",
        "    filepath=checkpoint_path,\n",
        "    save_weights_only=True,\n",
        "    verbose=1\n",
        ")\n",
        "\n",
        "model.fit(\n",
        "    train_images,\n",
        "    train_labels,\n",
        "    epochs=10,\n",
        "    validation_data=(test_images, test_labels),\n",
        "    callbacks=[cp_callback]\n",
        ")"
      ],
      "execution_count": null,
      "outputs": [
        {
          "output_type": "stream",
          "text": [
            "Epoch 1/10\n",
            "32/32 [==============================] - 1s 16ms/step - loss: 1.1395 - accuracy: 0.6780 - val_loss: 0.7368 - val_accuracy: 0.7710\n",
            "\n",
            "Epoch 00001: saving model to training_1/cp.ckpt\n",
            "Epoch 2/10\n",
            "32/32 [==============================] - 0s 11ms/step - loss: 0.4221 - accuracy: 0.8810 - val_loss: 0.5767 - val_accuracy: 0.8120\n",
            "\n",
            "Epoch 00002: saving model to training_1/cp.ckpt\n",
            "Epoch 3/10\n",
            "32/32 [==============================] - 0s 9ms/step - loss: 0.2773 - accuracy: 0.9220 - val_loss: 0.4954 - val_accuracy: 0.8410\n",
            "\n",
            "Epoch 00003: saving model to training_1/cp.ckpt\n",
            "Epoch 4/10\n",
            "32/32 [==============================] - 0s 11ms/step - loss: 0.2099 - accuracy: 0.9480 - val_loss: 0.4467 - val_accuracy: 0.8590\n",
            "\n",
            "Epoch 00004: saving model to training_1/cp.ckpt\n",
            "Epoch 5/10\n",
            "32/32 [==============================] - 0s 8ms/step - loss: 0.1622 - accuracy: 0.9620 - val_loss: 0.4295 - val_accuracy: 0.8710\n",
            "\n",
            "Epoch 00005: saving model to training_1/cp.ckpt\n",
            "Epoch 6/10\n",
            "32/32 [==============================] - 0s 8ms/step - loss: 0.1098 - accuracy: 0.9790 - val_loss: 0.4098 - val_accuracy: 0.8730\n",
            "\n",
            "Epoch 00006: saving model to training_1/cp.ckpt\n",
            "Epoch 7/10\n",
            "32/32 [==============================] - 0s 10ms/step - loss: 0.0741 - accuracy: 0.9920 - val_loss: 0.4304 - val_accuracy: 0.8660\n",
            "\n",
            "Epoch 00007: saving model to training_1/cp.ckpt\n",
            "Epoch 8/10\n",
            "32/32 [==============================] - 0s 8ms/step - loss: 0.0653 - accuracy: 0.9910 - val_loss: 0.4068 - val_accuracy: 0.8700\n",
            "\n",
            "Epoch 00008: saving model to training_1/cp.ckpt\n",
            "Epoch 9/10\n",
            "32/32 [==============================] - 0s 9ms/step - loss: 0.0474 - accuracy: 0.9980 - val_loss: 0.4095 - val_accuracy: 0.8660\n",
            "\n",
            "Epoch 00009: saving model to training_1/cp.ckpt\n",
            "Epoch 10/10\n",
            "32/32 [==============================] - 0s 11ms/step - loss: 0.0417 - accuracy: 0.9970 - val_loss: 0.3949 - val_accuracy: 0.8750\n",
            "\n",
            "Epoch 00010: saving model to training_1/cp.ckpt\n"
          ],
          "name": "stdout"
        },
        {
          "output_type": "execute_result",
          "data": {
            "text/plain": [
              "<tensorflow.python.keras.callbacks.History at 0x7f82f58184d0>"
            ]
          },
          "metadata": {
            "tags": []
          },
          "execution_count": 5
        }
      ]
    },
    {
      "cell_type": "code",
      "metadata": {
        "colab": {
          "base_uri": "https://localhost:8080/"
        },
        "id": "CilTFbeiRqtS",
        "outputId": "2df1dd95-7db4-4a10-a273-42aca6899fdf"
      },
      "source": [
        "ls {checkpoint_dir}"
      ],
      "execution_count": null,
      "outputs": [
        {
          "output_type": "stream",
          "text": [
            "checkpoint  cp.ckpt.data-00000-of-00001  cp.ckpt.index\n"
          ],
          "name": "stdout"
        }
      ]
    },
    {
      "cell_type": "markdown",
      "metadata": {
        "id": "k9Mtb8PsR13J"
      },
      "source": [
        "훈련하지 않은 새로운 모델을 만들어 보겠습니다. 가중치만 복원할 땐 원본 모델과 동일한 구조로 모델을 만들어야 합니다. 여기서는 동일한 구조로 모델을 만들었으므로 다른 객체이지만 가중치를 공유할 수 있습니다.\n",
        "\n",
        "훈련하지 않은 새 모델을 만들고 테스트 세트에서 평가해 보죠. 훈련되지 않은 모델의 성능은 무작위로 선택하는 정도의 수준입니다(~10% 정확도):"
      ]
    },
    {
      "cell_type": "code",
      "metadata": {
        "colab": {
          "base_uri": "https://localhost:8080/"
        },
        "id": "K0TNvBv0RzBH",
        "outputId": "f9067947-fc28-4ec2-d8e0-885caf8edeee"
      },
      "source": [
        "model = create_model()\n",
        "\n",
        "loss, acc = model.evaluate(\n",
        "    test_images,\n",
        "    test_labels,\n",
        "    verbose=2\n",
        ")\n",
        "print(f'훈련되지 않은 모델의 정확도: {100*acc}%')"
      ],
      "execution_count": null,
      "outputs": [
        {
          "output_type": "stream",
          "text": [
            "32/32 - 0s - loss: 2.3461 - accuracy: 0.0950\n",
            "훈련되지 않은 모델의 정확도: 9.49999988079071%\n"
          ],
          "name": "stdout"
        }
      ]
    },
    {
      "cell_type": "code",
      "metadata": {
        "colab": {
          "base_uri": "https://localhost:8080/"
        },
        "id": "GdteebpFSDFL",
        "outputId": "a0577929-abce-4f74-c220-95f23906bfdd"
      },
      "source": [
        "model.load_weights(checkpoint_path)\n",
        "\n",
        "loss,acc = model.evaluate(\n",
        "    test_images,\n",
        "    test_labels,\n",
        "    verbose=2\n",
        ")\n",
        "print(f'복원된 모델의 정확도: {100*acc}%')"
      ],
      "execution_count": null,
      "outputs": [
        {
          "output_type": "stream",
          "text": [
            "32/32 - 0s - loss: 0.3949 - accuracy: 0.8750\n",
            "복원된 모델의 정확도: 87.5%\n"
          ],
          "name": "stdout"
        }
      ]
    },
    {
      "cell_type": "markdown",
      "metadata": {
        "id": "Q8iC9y2xSRFu"
      },
      "source": [
        "### 체크포인트 콜백 매개변수\n",
        "이 콜백 함수는 몇 가지 매개변수를 제공합니다. 체크포인트 이름을 고유하게 만들거나 체크포인트 주기를 조정할 수 있습니다.\n",
        "\n",
        "새로운 모델을 훈련하고 다섯 번의 에포크마다 고유한 이름으로 체크포인트를 저장해 보겠습니다:"
      ]
    },
    {
      "cell_type": "code",
      "metadata": {
        "colab": {
          "base_uri": "https://localhost:8080/"
        },
        "id": "U-NkL3D9SOz8",
        "outputId": "2b0b4d15-951a-41bd-a535-e577c4139092"
      },
      "source": [
        "checkpoint_path = 'training_2/cp-{epoch:04d}.ckpt'\n",
        "checkpoint_dir = os.path.dirname(checkpoint_path)\n",
        "\n",
        "cp_callback = keras.callbacks.ModelCheckpoint(\n",
        "    filepath = checkpoint_path,\n",
        "    verbose=1,\n",
        "    save_weights_only=True,\n",
        "    period=5\n",
        ")\n",
        "\n",
        "model = create_model()\n",
        "\n",
        "model.save_weights(checkpoint_path.format(epoch=0))\n",
        "\n",
        "model.fit(\n",
        "    train_images,\n",
        "    train_labels,\n",
        "    epochs=50,\n",
        "    callbacks=[cp_callback],\n",
        "    validation_data=(test_images, test_labels),\n",
        "    verbose=0\n",
        ")"
      ],
      "execution_count": null,
      "outputs": [
        {
          "output_type": "stream",
          "text": [
            "WARNING:tensorflow:`period` argument is deprecated. Please use `save_freq` to specify the frequency in number of batches seen.\n",
            "WARNING:tensorflow:Unresolved object in checkpoint: (root).optimizer.iter\n",
            "WARNING:tensorflow:Unresolved object in checkpoint: (root).optimizer.beta_1\n",
            "WARNING:tensorflow:Unresolved object in checkpoint: (root).optimizer.beta_2\n",
            "WARNING:tensorflow:Unresolved object in checkpoint: (root).optimizer.decay\n",
            "WARNING:tensorflow:Unresolved object in checkpoint: (root).optimizer.learning_rate\n",
            "WARNING:tensorflow:A checkpoint was restored (e.g. tf.train.Checkpoint.restore or tf.keras.Model.load_weights) but not all checkpointed values were used. See above for specific issues. Use expect_partial() on the load status object, e.g. tf.train.Checkpoint.restore(...).expect_partial(), to silence these warnings, or use assert_consumed() to make the check explicit. See https://www.tensorflow.org/guide/checkpoint#loading_mechanics for details.\n",
            "\n",
            "Epoch 00005: saving model to training_2/cp-0005.ckpt\n",
            "\n",
            "Epoch 00010: saving model to training_2/cp-0010.ckpt\n",
            "\n",
            "Epoch 00015: saving model to training_2/cp-0015.ckpt\n",
            "\n",
            "Epoch 00020: saving model to training_2/cp-0020.ckpt\n",
            "\n",
            "Epoch 00025: saving model to training_2/cp-0025.ckpt\n",
            "\n",
            "Epoch 00030: saving model to training_2/cp-0030.ckpt\n",
            "\n",
            "Epoch 00035: saving model to training_2/cp-0035.ckpt\n",
            "\n",
            "Epoch 00040: saving model to training_2/cp-0040.ckpt\n",
            "\n",
            "Epoch 00045: saving model to training_2/cp-0045.ckpt\n",
            "\n",
            "Epoch 00050: saving model to training_2/cp-0050.ckpt\n"
          ],
          "name": "stdout"
        },
        {
          "output_type": "execute_result",
          "data": {
            "text/plain": [
              "<tensorflow.python.keras.callbacks.History at 0x7f82f267c110>"
            ]
          },
          "metadata": {
            "tags": []
          },
          "execution_count": 12
        }
      ]
    },
    {
      "cell_type": "code",
      "metadata": {
        "colab": {
          "base_uri": "https://localhost:8080/"
        },
        "id": "hKrAa-OeS36A",
        "outputId": "04525447-5542-4164-9dd2-3a3d5a03722f"
      },
      "source": [
        "ls {checkpoint_dir}"
      ],
      "execution_count": null,
      "outputs": [
        {
          "output_type": "stream",
          "text": [
            "checkpoint                        cp-0025.ckpt.index\n",
            "cp-0000.ckpt.data-00000-of-00001  cp-0030.ckpt.data-00000-of-00001\n",
            "cp-0000.ckpt.index                cp-0030.ckpt.index\n",
            "cp-0005.ckpt.data-00000-of-00001  cp-0035.ckpt.data-00000-of-00001\n",
            "cp-0005.ckpt.index                cp-0035.ckpt.index\n",
            "cp-0010.ckpt.data-00000-of-00001  cp-0040.ckpt.data-00000-of-00001\n",
            "cp-0010.ckpt.index                cp-0040.ckpt.index\n",
            "cp-0015.ckpt.data-00000-of-00001  cp-0045.ckpt.data-00000-of-00001\n",
            "cp-0015.ckpt.index                cp-0045.ckpt.index\n",
            "cp-0020.ckpt.data-00000-of-00001  cp-0050.ckpt.data-00000-of-00001\n",
            "cp-0020.ckpt.index                cp-0050.ckpt.index\n",
            "cp-0025.ckpt.data-00000-of-00001\n"
          ],
          "name": "stdout"
        }
      ]
    },
    {
      "cell_type": "code",
      "metadata": {
        "colab": {
          "base_uri": "https://localhost:8080/",
          "height": 35
        },
        "id": "zyVHdj8DTHeP",
        "outputId": "862fa9c3-1845-453e-da3f-98440eca899a"
      },
      "source": [
        "latest = tf.train.latest_checkpoint(checkpoint_dir)\n",
        "latest"
      ],
      "execution_count": null,
      "outputs": [
        {
          "output_type": "execute_result",
          "data": {
            "application/vnd.google.colaboratory.intrinsic+json": {
              "type": "string"
            },
            "text/plain": [
              "'training_2/cp-0050.ckpt'"
            ]
          },
          "metadata": {
            "tags": []
          },
          "execution_count": 14
        }
      ]
    },
    {
      "cell_type": "markdown",
      "metadata": {
        "id": "Qn93CPznTRTu"
      },
      "source": [
        "노트: 텐서플로는 기본적으로 최근 5개의 체크포인트만 저장합니다.\n",
        "\n",
        "모델을 초기화하고 최근 체크포인트를 로드하여 테스트해 보겠습니다:"
      ]
    },
    {
      "cell_type": "code",
      "metadata": {
        "colab": {
          "base_uri": "https://localhost:8080/"
        },
        "id": "dHijfjM5TPLP",
        "outputId": "ac5e791a-2f62-42d7-b8e3-b96d189bf272"
      },
      "source": [
        "model = create_model()\n",
        "model.load_weights(latest)\n",
        "\n",
        "loss, acc = model.evaluate(\n",
        "    test_images,\n",
        "    test_labels,\n",
        "    verbose=2\n",
        ")\n",
        "print(f'복원된 모델의 정확도: {100*acc}%')"
      ],
      "execution_count": null,
      "outputs": [
        {
          "output_type": "stream",
          "text": [
            "32/32 - 0s - loss: 0.4875 - accuracy: 0.8750\n",
            "복원된 모델의 정확도: 87.5%\n"
          ],
          "name": "stdout"
        }
      ]
    },
    {
      "cell_type": "markdown",
      "metadata": {
        "id": "4RSMvI-WTkTw"
      },
      "source": [
        "## 이 파일들은 무엇인가요?\n",
        "The above code stores the weights to a collection of checkpoint-formatted files that contain only the trained weights in a binary format. Checkpoints contain:\n",
        "\n",
        "- One or more shards that contain your model's weights.\n",
        "- An index file that indicates which weights are stored in a which shard.\n",
        "If you are only training a model on a single machine, you'll have one shard with the suffix: .data-00000-of-00001\n"
      ]
    },
    {
      "cell_type": "markdown",
      "metadata": {
        "id": "gqhsY_FoTrLO"
      },
      "source": [
        "## 수동으로 가중치 저장하기\n",
        "앞에서 가중치를 모델에 로드하는 방법을 보았습니다. 수동으로 가중치를 저장하는 것도 쉽습니다. Model.save_weights 메서드를 사용합니다. tf.keras는, 특히 save_weights는 .ckpt 확장자를 가진 텐서플로 체크포인트 포맷을 사용합니다(.h5 확장자의 HDF5으로 저장하는 것은 Save and serialize models 가이드에서 다룹니다):"
      ]
    },
    {
      "cell_type": "code",
      "metadata": {
        "colab": {
          "base_uri": "https://localhost:8080/"
        },
        "id": "3Ia_vsl6ThOO",
        "outputId": "31fcf492-fb3a-4303-c01d-a6bb6bd4edcc"
      },
      "source": [
        "model.save_weights('./checkpoints/my_checkpoint')\n",
        "\n",
        "model = create_model()\n",
        "\n",
        "model.load_weights('./checkpoints/my_checkpoint')\n",
        "\n",
        "loss, acc = model.evaluate(\n",
        "    test_images,\n",
        "    test_labels,\n",
        "    verbose=2\n",
        ")\n",
        "print(f'복원된 모델의 정확도: {100*acc}%')"
      ],
      "execution_count": null,
      "outputs": [
        {
          "output_type": "stream",
          "text": [
            "32/32 - 0s - loss: 0.4875 - accuracy: 0.8750\n",
            "복원된 모델의 정확도: 87.5%\n"
          ],
          "name": "stdout"
        }
      ]
    },
    {
      "cell_type": "markdown",
      "metadata": {
        "id": "s-Wr1RwlUBZ-"
      },
      "source": [
        "## 전체 모델 저장하기\n",
        "model.save 메서드를 호출하여 모델의 구조, 가중치, 훈련 설정을 하나의 파일/폴더에 저장합니다. 모델을 저장하기 때문에 원본 파이썬 코드*가 없어도 사용할 수 있습니다. 옵티마이저 상태가 복원되므로 정확히 중지한 시점에서 다시 훈련을 시작할 수 있습니다.\n",
        "\n",
        "두 개의 포맷(SavedModel과 HDF5)으로 모델을 저장할 수 있습니다. 텐서플로의 SavedModel 포맷은 TF2.x에서기본 파일 포맷입니다. 하지만 HDF5 포맷으로 저장할 수도 있습니다. 두 파일 포맷으로 전체 모델을 저장하는 방법은 아래에서 자세히 설명합니다.\n",
        "\n",
        "전체 모델을 저장하는 기능은 매우 유용합니다. TensorFlow.js로 모델을 로드한 다음 웹 브라우저에서 모델을 훈련하고 실행할 수 있습니다(Saved Model, HDF5). 또는 모바일 장치에 맞도록 변환한 다음 TensorFlow Lite를 사용하여 실행할 수 있습니다(Saved Model, HDF5).\n",
        "\n",
        "* 사용자 정의 객체(예를 들면 상속으로 만든 클래스나 층)는 저장하고 로드하는데 특별한 주의가 필요합니다. 아래 사용자 정의 객체 저장하기 섹션을 참고하세요.\n",
        "\n",
        "### SavedModel 포맷\n",
        "SavedModel 포맷은 모데을 직렬화하는 다른 방법입니다. 이 포맷으로 저장한 모델은 tf.keras.models.load_model로 복원할 수 있고 텐서플로 서빙과 호환됩니다. SavedModel 가이드에서 SavedModel를 서빙하고 점검하는 자세한 방법을 제공합니다. 이 섹션에서는 모델을 저장하고 복원하는 방법을 안내하겠습니다."
      ]
    },
    {
      "cell_type": "code",
      "metadata": {
        "colab": {
          "base_uri": "https://localhost:8080/"
        },
        "id": "X3HDJ4g9T5kk",
        "outputId": "a3f0292d-345b-4295-dea0-8dfb5dd04a24"
      },
      "source": [
        "model = create_model()\n",
        "model.fit(\n",
        "    train_images,\n",
        "    train_labels,\n",
        "    epochs=5\n",
        ")\n",
        "\n",
        "!mkdir -p saved_model\n",
        "model.save('saved_model/my_model')"
      ],
      "execution_count": null,
      "outputs": [
        {
          "output_type": "stream",
          "text": [
            "Epoch 1/5\n",
            "32/32 [==============================] - 0s 5ms/step - loss: 1.1870 - accuracy: 0.6590\n",
            "Epoch 2/5\n",
            "32/32 [==============================] - 0s 5ms/step - loss: 0.4286 - accuracy: 0.8870\n",
            "Epoch 3/5\n",
            "32/32 [==============================] - 0s 6ms/step - loss: 0.2892 - accuracy: 0.9210\n",
            "Epoch 4/5\n",
            "32/32 [==============================] - 0s 5ms/step - loss: 0.2080 - accuracy: 0.9500\n",
            "Epoch 5/5\n",
            "32/32 [==============================] - 0s 5ms/step - loss: 0.1512 - accuracy: 0.9680\n",
            "INFO:tensorflow:Assets written to: saved_model/my_model/assets\n"
          ],
          "name": "stdout"
        }
      ]
    },
    {
      "cell_type": "code",
      "metadata": {
        "colab": {
          "base_uri": "https://localhost:8080/"
        },
        "id": "uGRIJGLgUVxc",
        "outputId": "48a47ba1-dbea-4ab2-c91c-41bade551dcb"
      },
      "source": [
        "ls saved_model/my_model/"
      ],
      "execution_count": null,
      "outputs": [
        {
          "output_type": "stream",
          "text": [
            "\u001b[0m\u001b[01;34massets\u001b[0m/  keras_metadata.pb  saved_model.pb  \u001b[01;34mvariables\u001b[0m/\n"
          ],
          "name": "stdout"
        }
      ]
    },
    {
      "cell_type": "code",
      "metadata": {
        "colab": {
          "base_uri": "https://localhost:8080/"
        },
        "id": "TNZvdGsBUed2",
        "outputId": "a1a5b75b-a7b0-438d-cc0d-0c3f9c75a12b"
      },
      "source": [
        "new_model = keras.models.load_model('saved_model/my_model')\n",
        "\n",
        "new_model.summary()"
      ],
      "execution_count": null,
      "outputs": [
        {
          "output_type": "stream",
          "text": [
            "Model: \"sequential_7\"\n",
            "_________________________________________________________________\n",
            "Layer (type)                 Output Shape              Param #   \n",
            "=================================================================\n",
            "dense_14 (Dense)             (None, 512)               401920    \n",
            "_________________________________________________________________\n",
            "dropout_7 (Dropout)          (None, 512)               0         \n",
            "_________________________________________________________________\n",
            "dense_15 (Dense)             (None, 10)                5130      \n",
            "=================================================================\n",
            "Total params: 407,050\n",
            "Trainable params: 407,050\n",
            "Non-trainable params: 0\n",
            "_________________________________________________________________\n"
          ],
          "name": "stdout"
        }
      ]
    },
    {
      "cell_type": "code",
      "metadata": {
        "colab": {
          "base_uri": "https://localhost:8080/"
        },
        "id": "lM0RN7JeUwnS",
        "outputId": "cbd90f0c-c930-44ff-8bfa-beb936a98519"
      },
      "source": [
        "# 복원된 모델을 평가합니다\n",
        "loss, acc = new_model.evaluate(test_images,  test_labels, verbose=2)\n",
        "print('복원된 모델의 정확도: {:5.2f}%'.format(100*acc))\n",
        "\n",
        "print(new_model.predict(test_images).shape)"
      ],
      "execution_count": null,
      "outputs": [
        {
          "output_type": "stream",
          "text": [
            "32/32 - 0s - loss: 0.4229 - accuracy: 0.8610\n",
            "복원된 모델의 정확도: 86.10%\n",
            "(1000, 10)\n"
          ],
          "name": "stdout"
        }
      ]
    },
    {
      "cell_type": "markdown",
      "metadata": {
        "id": "C8sltrGeU0uo"
      },
      "source": [
        "### HDF5 파일로 저장하기\n",
        "케라스는 HDF5(Hierarchical Data Format) 표준을 따르는 기본 저장 포맷을 제공합니다."
      ]
    },
    {
      "cell_type": "code",
      "metadata": {
        "colab": {
          "base_uri": "https://localhost:8080/"
        },
        "id": "PpjrP8tfUzRW",
        "outputId": "a105dd4b-da7c-45aa-8368-202264d1784a"
      },
      "source": [
        "# 새로운 모델 객체를 만들고 훈련합니다\n",
        "model = create_model()\n",
        "model.fit(train_images, train_labels, epochs=5)\n",
        "\n",
        "# 전체 모델을 HDF5 파일로 저장합니다\n",
        "# '.h5' 확장자는 이 모델이 HDF5로 저장되었다는 것을 나타냅니다\n",
        "model.save('my_model.h5')"
      ],
      "execution_count": null,
      "outputs": [
        {
          "output_type": "stream",
          "text": [
            "Epoch 1/5\n",
            "32/32 [==============================] - 0s 5ms/step - loss: 1.1696 - accuracy: 0.6730\n",
            "Epoch 2/5\n",
            "32/32 [==============================] - 0s 5ms/step - loss: 0.4250 - accuracy: 0.8780\n",
            "Epoch 3/5\n",
            "32/32 [==============================] - 0s 6ms/step - loss: 0.2951 - accuracy: 0.9210\n",
            "Epoch 4/5\n",
            "32/32 [==============================] - 0s 5ms/step - loss: 0.2298 - accuracy: 0.9410\n",
            "Epoch 5/5\n",
            "32/32 [==============================] - 0s 5ms/step - loss: 0.1529 - accuracy: 0.9700\n"
          ],
          "name": "stdout"
        }
      ]
    },
    {
      "cell_type": "code",
      "metadata": {
        "colab": {
          "base_uri": "https://localhost:8080/"
        },
        "id": "PNgqTvG0U8D9",
        "outputId": "416c793d-2d95-4ba6-8ca9-101e9a509ef6"
      },
      "source": [
        "# 가중치와 옵티마이저를 포함하여 정확히 동일한 모델을 다시 생성합니다\n",
        "new_model = tf.keras.models.load_model('my_model.h5')\n",
        "\n",
        "# 모델 구조를 출력합니다\n",
        "new_model.summary()"
      ],
      "execution_count": null,
      "outputs": [
        {
          "output_type": "stream",
          "text": [
            "Model: \"sequential_8\"\n",
            "_________________________________________________________________\n",
            "Layer (type)                 Output Shape              Param #   \n",
            "=================================================================\n",
            "dense_16 (Dense)             (None, 512)               401920    \n",
            "_________________________________________________________________\n",
            "dropout_8 (Dropout)          (None, 512)               0         \n",
            "_________________________________________________________________\n",
            "dense_17 (Dense)             (None, 10)                5130      \n",
            "=================================================================\n",
            "Total params: 407,050\n",
            "Trainable params: 407,050\n",
            "Non-trainable params: 0\n",
            "_________________________________________________________________\n"
          ],
          "name": "stdout"
        }
      ]
    },
    {
      "cell_type": "code",
      "metadata": {
        "colab": {
          "base_uri": "https://localhost:8080/"
        },
        "id": "w0BbQaROU9wg",
        "outputId": "99171602-eb16-4c58-de90-76dbd542db69"
      },
      "source": [
        "loss, acc = new_model.evaluate(test_images,  test_labels, verbose=2)\n",
        "print('복원된 모델의 정확도: {:5.2f}%'.format(100*acc))"
      ],
      "execution_count": null,
      "outputs": [
        {
          "output_type": "stream",
          "text": [
            "32/32 - 0s - loss: 0.4273 - accuracy: 0.8660\n",
            "복원된 모델의 정확도: 86.60%\n"
          ],
          "name": "stdout"
        }
      ]
    },
    {
      "cell_type": "markdown",
      "metadata": {
        "id": "russNWshVAys"
      },
      "source": [
        "케라스는 모델 구조를 파악하여 저장합니다. 이 방식은 다음과 같은 모든 것을 저장합니다:\n",
        "\n",
        "- 가중치 값\n",
        "- 모델 구조\n",
        "- 모델의 훈련 설정(컴파일할 때 전달한 값)\n",
        "- 옵티마이저와 필요하면 옵티마이저 상태(중지된 지점부터 다시 시작할 수 있습니다)\n",
        "\n",
        "체크포인트가 호환되지 않기 때문에 케라스는 v1.x 옵티마이저(tf.compat.v1.train)를 저장할 수 없습니다. v1.x 옵티마이저를 사용하려면 로드한 후에 모델을 다시 컴파일해야 합니다. 따라서 옵티마이저의 상태를 잃게 됩니다."
      ]
    },
    {
      "cell_type": "markdown",
      "metadata": {
        "id": "oCU88zSlVEqE"
      },
      "source": [
        "### 사용자 정의 객체\n",
        "SaveModel 포맷을 사용한다면 이 섹션은 건너 뛰어도 됩니다. HDF5와 SavedModel 사이의 주요 차이점은 HDF5가 객체로 모델 구조를 저장하고 SavedModel은 실행 그래프로 저장하는 것입니다. 따라서 SavedModel은 원본 코드 없이 상속 모델과 사용자 정의 층 같은 사용자 정의 객체를 저장할 수 있습니다.\n",
        "\n",
        "사용자 정의 객체를 HDF5로 저장하려면 다음 과정을 따르세요:\n",
        "\n",
        "1. 이 객체에 get_config 메서드를 정의하고 선택적으로 from_config 클래스 메서드를 정의합니다.\n",
        "    - get_config(self)는 객체를 다시 생성하기 위해 필요한 JSON 직렬화된 매개변수 딕셔너리를 반환합니다.\n",
        "    - from_config(cls, config)는 get_config에서 반환된 설정을 사용해 새로운 객체를 만듭니다. 기본적으로 이 함수는 이 설정을 초기화 메서드의 매개변수로 사용합니다(return cls(**config)).\n",
        "2. 모델을 로드할 때 이 객체를 custom_objects 매개변수로 전달합니다. 문자열 클래스 이름과 파이썬 클래스를 매핑한 딕서너리를 매개변수로 제공해야 합니다. 예를 들면 tf.keras.models.load_model(path, custom_objects={'CustomLayer': CustomLayer})\n",
        "\n",
        "사용자 정의 객체와 get_config에 관한 예제를 보려면 Writing layers and models from scratch 튜토리얼을 참고하세요."
      ]
    },
    {
      "cell_type": "code",
      "metadata": {
        "id": "kX5ySYJ5U_eS"
      },
      "source": [
        "# MIT License\n",
        "#\n",
        "# Copyright (c) 2017 François Chollet\n",
        "#\n",
        "# Permission is hereby granted, free of charge, to any person obtaining a\n",
        "# copy of this software and associated documentation files (the \"Software\"),\n",
        "# to deal in the Software without restriction, including without limitation\n",
        "# the rights to use, copy, modify, merge, publish, distribute, sublicense,\n",
        "# and/or sell copies of the Software, and to permit persons to whom the\n",
        "# Software is furnished to do so, subject to the following conditions:\n",
        "#\n",
        "# The above copyright notice and this permission notice shall be included in\n",
        "# all copies or substantial portions of the Software.\n",
        "#\n",
        "# THE SOFTWARE IS PROVIDED \"AS IS\", WITHOUT WARRANTY OF ANY KIND, EXPRESS OR\n",
        "# IMPLIED, INCLUDING BUT NOT LIMITED TO THE WARRANTIES OF MERCHANTABILITY,\n",
        "# FITNESS FOR A PARTICULAR PURPOSE AND NONINFRINGEMENT. IN NO EVENT SHALL\n",
        "# THE AUTHORS OR COPYRIGHT HOLDERS BE LIABLE FOR ANY CLAIM, DAMAGES OR OTHER\n",
        "# LIABILITY, WHETHER IN AN ACTION OF CONTRACT, TORT OR OTHERWISE, ARISING\n",
        "# FROM, OUT OF OR IN CONNECTION WITH THE SOFTWARE OR THE USE OR OTHER\n",
        "# DEALINGS IN THE SOFTWARE."
      ],
      "execution_count": null,
      "outputs": []
    }
  ]
}